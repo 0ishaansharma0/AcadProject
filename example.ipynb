{
 "cells": [
  {
   "cell_type": "code",
   "execution_count": 4,
   "id": "8d677943",
   "metadata": {},
   "outputs": [],
   "source": [
    "import numpy as np\n",
    "import pandas as pd\n",
    "\n",
    "import re\n",
    "\n"
   ]
  },
  {
   "cell_type": "code",
   "execution_count": 7,
   "id": "fd118f92",
   "metadata": {},
   "outputs": [],
   "source": [
    "df = pd.read_excel('data/recipes.xlsx')"
   ]
  },
  {
   "cell_type": "code",
   "execution_count": 9,
   "id": "dd9e50d5",
   "metadata": {},
   "outputs": [],
   "source": [
    "df = df.drop(columns=['aloo gobhi'])\n",
    "\n"
   ]
  },
  {
   "cell_type": "code",
   "execution_count": 10,
   "id": "c29783e0",
   "metadata": {},
   "outputs": [],
   "source": [
    "df = df.dropna(subset=['amount', 'unit'])\n"
   ]
  },
  {
   "cell_type": "code",
   "execution_count": 11,
   "id": "8863b78d",
   "metadata": {},
   "outputs": [],
   "source": [
    "df = df.drop(columns=[\n",
    "    'recipe_code_org',\n",
    "    'recipe_name_org',\n",
    "    'amount_org',\n",
    "    'unit_org',\n",
    "    'food_code_org',\n",
    "    'food_name'\n",
    "])\n"
   ]
  },
  {
   "cell_type": "code",
   "execution_count": 12,
   "id": "0f3be61b",
   "metadata": {},
   "outputs": [
    {
     "data": {
      "text/plain": [
       "recipe_code            0.000000\n",
       "recipe_name            0.000000\n",
       "ingredient_name_org    0.000000\n",
       "food_name_org          0.000000\n",
       "food_code              1.168679\n",
       "amount                 0.000000\n",
       "unit                   0.000000\n",
       "dtype: float64"
      ]
     },
     "execution_count": 12,
     "metadata": {},
     "output_type": "execute_result"
    }
   ],
   "source": [
    "(df.isnull().sum()/df.shape[0])*100"
   ]
  },
  {
   "cell_type": "code",
   "execution_count": 13,
   "id": "510a35d3",
   "metadata": {},
   "outputs": [
    {
     "data": {
      "text/plain": [
       "recipe_code            0.000000\n",
       "recipe_name            0.000000\n",
       "ingredient_name_org    0.000000\n",
       "food_name_org          0.000000\n",
       "food_code              1.168679\n",
       "amount                 0.000000\n",
       "unit                   0.000000\n",
       "dtype: float64"
      ]
     },
     "execution_count": 13,
     "metadata": {},
     "output_type": "execute_result"
    }
   ],
   "source": [
    "(df.isnull().sum()/df.shape[0])*100"
   ]
  },
  {
   "cell_type": "code",
   "execution_count": 14,
   "id": "eadd7695",
   "metadata": {},
   "outputs": [],
   "source": [
    "df['food_code'] = df['food_code'].fillna('unknown')\n"
   ]
  },
  {
   "cell_type": "code",
   "execution_count": 15,
   "id": "0fb5c2af",
   "metadata": {},
   "outputs": [
    {
     "data": {
      "text/html": [
       "<div>\n",
       "<style scoped>\n",
       "    .dataframe tbody tr th:only-of-type {\n",
       "        vertical-align: middle;\n",
       "    }\n",
       "\n",
       "    .dataframe tbody tr th {\n",
       "        vertical-align: top;\n",
       "    }\n",
       "\n",
       "    .dataframe thead th {\n",
       "        text-align: right;\n",
       "    }\n",
       "</style>\n",
       "<table border=\"1\" class=\"dataframe\">\n",
       "  <thead>\n",
       "    <tr style=\"text-align: right;\">\n",
       "      <th></th>\n",
       "      <th>recipe_code</th>\n",
       "      <th>recipe_name</th>\n",
       "      <th>ingredient_name_org</th>\n",
       "      <th>food_name_org</th>\n",
       "      <th>food_code</th>\n",
       "      <th>amount</th>\n",
       "      <th>unit</th>\n",
       "    </tr>\n",
       "  </thead>\n",
       "  <tbody>\n",
       "    <tr>\n",
       "      <th>0</th>\n",
       "      <td>ASC001</td>\n",
       "      <td>Hot tea (Garam Chai)</td>\n",
       "      <td>Milk</td>\n",
       "      <td>Milk, whole, Cow</td>\n",
       "      <td>L002</td>\n",
       "      <td>50.0</td>\n",
       "      <td>ml</td>\n",
       "    </tr>\n",
       "    <tr>\n",
       "      <th>1</th>\n",
       "      <td>ASC001</td>\n",
       "      <td>Hot tea (Garam Chai)</td>\n",
       "      <td>Sugar</td>\n",
       "      <td>Sugar, white</td>\n",
       "      <td>I502</td>\n",
       "      <td>2.0</td>\n",
       "      <td>tsp</td>\n",
       "    </tr>\n",
       "    <tr>\n",
       "      <th>2</th>\n",
       "      <td>ASC001</td>\n",
       "      <td>Hot tea (Garam Chai)</td>\n",
       "      <td>Tea leaves</td>\n",
       "      <td>Tea, black, infusion, average</td>\n",
       "      <td>V510</td>\n",
       "      <td>1.5</td>\n",
       "      <td>tsp</td>\n",
       "    </tr>\n",
       "    <tr>\n",
       "      <th>3</th>\n",
       "      <td>ASC001</td>\n",
       "      <td>Hot tea (Garam Chai)</td>\n",
       "      <td>Water</td>\n",
       "      <td>Water, distilled</td>\n",
       "      <td>K505</td>\n",
       "      <td>1.5</td>\n",
       "      <td>C</td>\n",
       "    </tr>\n",
       "    <tr>\n",
       "      <th>4</th>\n",
       "      <td>ASC002</td>\n",
       "      <td>Instant coffee</td>\n",
       "      <td>Hot milk</td>\n",
       "      <td>Milk, whole, Cow</td>\n",
       "      <td>L002</td>\n",
       "      <td>75.0</td>\n",
       "      <td>ml</td>\n",
       "    </tr>\n",
       "  </tbody>\n",
       "</table>\n",
       "</div>"
      ],
      "text/plain": [
       "  recipe_code           recipe_name ingredient_name_org  \\\n",
       "0      ASC001  Hot tea (Garam Chai)                Milk   \n",
       "1      ASC001  Hot tea (Garam Chai)               Sugar   \n",
       "2      ASC001  Hot tea (Garam Chai)          Tea leaves   \n",
       "3      ASC001  Hot tea (Garam Chai)               Water   \n",
       "4      ASC002        Instant coffee            Hot milk   \n",
       "\n",
       "                   food_name_org food_code  amount unit  \n",
       "0               Milk, whole, Cow      L002    50.0   ml  \n",
       "1                   Sugar, white      I502     2.0  tsp  \n",
       "2  Tea, black, infusion, average      V510     1.5  tsp  \n",
       "3               Water, distilled      K505     1.5    C  \n",
       "4               Milk, whole, Cow      L002    75.0   ml  "
      ]
     },
     "execution_count": 15,
     "metadata": {},
     "output_type": "execute_result"
    }
   ],
   "source": [
    "df.head()"
   ]
  },
  {
   "cell_type": "code",
   "execution_count": 16,
   "id": "63f840ae",
   "metadata": {},
   "outputs": [
    {
     "data": {
      "text/plain": [
       "0                                     Hot tea (Garam Chai)\n",
       "1                                     Hot tea (Garam Chai)\n",
       "2                                     Hot tea (Garam Chai)\n",
       "3                                     Hot tea (Garam Chai)\n",
       "4                                           Instant coffee\n",
       "                               ...                        \n",
       "10266    Garlic chickpea soup (Lahasun aur chane ka sho...\n",
       "10267    Garlic chickpea soup (Lahasun aur chane ka sho...\n",
       "10268    Garlic chickpea soup (Lahasun aur chane ka sho...\n",
       "10269    Garlic chickpea soup (Lahasun aur chane ka sho...\n",
       "10270    Garlic chickpea soup (Lahasun aur chane ka sho...\n",
       "Name: recipe_name, Length: 10268, dtype: object"
      ]
     },
     "execution_count": 16,
     "metadata": {},
     "output_type": "execute_result"
    }
   ],
   "source": [
    "df['recipe_name']"
   ]
  },
  {
   "cell_type": "code",
   "execution_count": 17,
   "id": "3fb750dc",
   "metadata": {},
   "outputs": [
    {
     "name": "stdout",
     "output_type": "stream",
     "text": [
      "2.3.3\n",
      "2.3.3\n"
     ]
    }
   ],
   "source": [
    "print(np.__version__)\n",
    "print(pd.__version__)"
   ]
  },
  {
   "cell_type": "code",
   "execution_count": null,
   "id": "42bbd6af",
   "metadata": {},
   "outputs": [],
   "source": []
  }
 ],
 "metadata": {
  "kernelspec": {
   "display_name": "Python 3",
   "language": "python",
   "name": "python3"
  },
  "language_info": {
   "codemirror_mode": {
    "name": "ipython",
    "version": 3
   },
   "file_extension": ".py",
   "mimetype": "text/x-python",
   "name": "python",
   "nbconvert_exporter": "python",
   "pygments_lexer": "ipython3",
   "version": "3.13.7"
  }
 },
 "nbformat": 4,
 "nbformat_minor": 5
}

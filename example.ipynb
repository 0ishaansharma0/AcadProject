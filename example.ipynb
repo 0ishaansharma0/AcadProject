{
 "cells": [
  {
   "cell_type": "code",
   "execution_count": 3,
   "id": "8d677943",
   "metadata": {},
   "outputs": [
    {
     "ename": "ValueError",
     "evalue": "numpy.dtype size changed, may indicate binary incompatibility. Expected 96 from C header, got 88 from PyObject",
     "output_type": "error",
     "traceback": [
      "\u001b[31m---------------------------------------------------------------------------\u001b[39m",
      "\u001b[31mValueError\u001b[39m                                Traceback (most recent call last)",
      "\u001b[36mCell\u001b[39m\u001b[36m \u001b[39m\u001b[32mIn[3]\u001b[39m\u001b[32m, line 2\u001b[39m\n\u001b[32m      1\u001b[39m \u001b[38;5;28;01mimport\u001b[39;00m\u001b[38;5;250m \u001b[39m\u001b[34;01mnumpy\u001b[39;00m\u001b[38;5;250m \u001b[39m\u001b[38;5;28;01mas\u001b[39;00m\u001b[38;5;250m \u001b[39m\u001b[34;01mnp\u001b[39;00m\n\u001b[32m----> \u001b[39m\u001b[32m2\u001b[39m \u001b[38;5;28;01mimport\u001b[39;00m\u001b[38;5;250m \u001b[39m\u001b[34;01mpandas\u001b[39;00m\u001b[38;5;250m \u001b[39m\u001b[38;5;28;01mas\u001b[39;00m\u001b[38;5;250m \u001b[39m\u001b[34;01mpd\u001b[39;00m\n\u001b[32m      3\u001b[39m \u001b[38;5;28;01mimport\u001b[39;00m\u001b[38;5;250m \u001b[39m\u001b[34;01mmatplotlib\u001b[39;00m\u001b[34;01m.\u001b[39;00m\u001b[34;01mpyplot\u001b[39;00m\u001b[38;5;250m \u001b[39m\u001b[38;5;28;01mas\u001b[39;00m\u001b[38;5;250m \u001b[39m\u001b[34;01mplt\u001b[39;00m\n\u001b[32m      4\u001b[39m \u001b[38;5;28;01mimport\u001b[39;00m\u001b[38;5;250m \u001b[39m\u001b[34;01mre\u001b[39;00m\n",
      "\u001b[36mFile \u001b[39m\u001b[32mc:\\Users\\prana\\AppData\\Local\\Programs\\Python\\Python311\\Lib\\site-packages\\pandas\\__init__.py:59\u001b[39m\n\u001b[32m     56\u001b[39m \u001b[38;5;66;03m# let init-time option registration happen\u001b[39;00m\n\u001b[32m     57\u001b[39m \u001b[38;5;28;01mimport\u001b[39;00m\u001b[38;5;250m \u001b[39m\u001b[34;01mpandas\u001b[39;00m\u001b[34;01m.\u001b[39;00m\u001b[34;01mcore\u001b[39;00m\u001b[34;01m.\u001b[39;00m\u001b[34;01mconfig_init\u001b[39;00m  \u001b[38;5;66;03m# pyright: ignore[reportUnusedImport] # noqa: F401\u001b[39;00m\n\u001b[32m---> \u001b[39m\u001b[32m59\u001b[39m \u001b[38;5;28;01mfrom\u001b[39;00m\u001b[38;5;250m \u001b[39m\u001b[34;01mpandas\u001b[39;00m\u001b[34;01m.\u001b[39;00m\u001b[34;01mcore\u001b[39;00m\u001b[34;01m.\u001b[39;00m\u001b[34;01mapi\u001b[39;00m\u001b[38;5;250m \u001b[39m\u001b[38;5;28;01mimport\u001b[39;00m (\n\u001b[32m     60\u001b[39m     \u001b[38;5;66;03m# dtype\u001b[39;00m\n\u001b[32m     61\u001b[39m     ArrowDtype,\n\u001b[32m     62\u001b[39m     Int8Dtype,\n\u001b[32m     63\u001b[39m     Int16Dtype,\n\u001b[32m     64\u001b[39m     Int32Dtype,\n\u001b[32m     65\u001b[39m     Int64Dtype,\n\u001b[32m     66\u001b[39m     UInt8Dtype,\n\u001b[32m     67\u001b[39m     UInt16Dtype,\n\u001b[32m     68\u001b[39m     UInt32Dtype,\n\u001b[32m     69\u001b[39m     UInt64Dtype,\n\u001b[32m     70\u001b[39m     Float32Dtype,\n\u001b[32m     71\u001b[39m     Float64Dtype,\n\u001b[32m     72\u001b[39m     CategoricalDtype,\n\u001b[32m     73\u001b[39m     PeriodDtype,\n\u001b[32m     74\u001b[39m     IntervalDtype,\n\u001b[32m     75\u001b[39m     DatetimeTZDtype,\n\u001b[32m     76\u001b[39m     StringDtype,\n\u001b[32m     77\u001b[39m     BooleanDtype,\n\u001b[32m     78\u001b[39m     \u001b[38;5;66;03m# missing\u001b[39;00m\n\u001b[32m     79\u001b[39m     NA,\n\u001b[32m     80\u001b[39m     isna,\n\u001b[32m     81\u001b[39m     isnull,\n\u001b[32m     82\u001b[39m     notna,\n\u001b[32m     83\u001b[39m     notnull,\n\u001b[32m     84\u001b[39m     \u001b[38;5;66;03m# indexes\u001b[39;00m\n\u001b[32m     85\u001b[39m     Index,\n\u001b[32m     86\u001b[39m     CategoricalIndex,\n\u001b[32m     87\u001b[39m     RangeIndex,\n\u001b[32m     88\u001b[39m     MultiIndex,\n\u001b[32m     89\u001b[39m     IntervalIndex,\n\u001b[32m     90\u001b[39m     TimedeltaIndex,\n\u001b[32m     91\u001b[39m     DatetimeIndex,\n\u001b[32m     92\u001b[39m     PeriodIndex,\n\u001b[32m     93\u001b[39m     IndexSlice,\n\u001b[32m     94\u001b[39m     \u001b[38;5;66;03m# tseries\u001b[39;00m\n\u001b[32m     95\u001b[39m     NaT,\n\u001b[32m     96\u001b[39m     Period,\n\u001b[32m     97\u001b[39m     period_range,\n\u001b[32m     98\u001b[39m     Timedelta,\n\u001b[32m     99\u001b[39m     timedelta_range,\n\u001b[32m    100\u001b[39m     Timestamp,\n\u001b[32m    101\u001b[39m     date_range,\n\u001b[32m    102\u001b[39m     bdate_range,\n\u001b[32m    103\u001b[39m     Interval,\n\u001b[32m    104\u001b[39m     interval_range,\n\u001b[32m    105\u001b[39m     DateOffset,\n\u001b[32m    106\u001b[39m     \u001b[38;5;66;03m# conversion\u001b[39;00m\n\u001b[32m    107\u001b[39m     to_numeric,\n\u001b[32m    108\u001b[39m     to_datetime,\n\u001b[32m    109\u001b[39m     to_timedelta,\n\u001b[32m    110\u001b[39m     \u001b[38;5;66;03m# misc\u001b[39;00m\n\u001b[32m    111\u001b[39m     Flags,\n\u001b[32m    112\u001b[39m     Grouper,\n\u001b[32m    113\u001b[39m     factorize,\n\u001b[32m    114\u001b[39m     unique,\n\u001b[32m    115\u001b[39m     value_counts,\n\u001b[32m    116\u001b[39m     NamedAgg,\n\u001b[32m    117\u001b[39m     array,\n\u001b[32m    118\u001b[39m     Categorical,\n\u001b[32m    119\u001b[39m     set_eng_float_format,\n\u001b[32m    120\u001b[39m     Series,\n\u001b[32m    121\u001b[39m     DataFrame,\n\u001b[32m    122\u001b[39m )\n\u001b[32m    124\u001b[39m \u001b[38;5;28;01mfrom\u001b[39;00m\u001b[38;5;250m \u001b[39m\u001b[34;01mpandas\u001b[39;00m\u001b[34;01m.\u001b[39;00m\u001b[34;01mcore\u001b[39;00m\u001b[34;01m.\u001b[39;00m\u001b[34;01mdtypes\u001b[39;00m\u001b[34;01m.\u001b[39;00m\u001b[34;01mdtypes\u001b[39;00m\u001b[38;5;250m \u001b[39m\u001b[38;5;28;01mimport\u001b[39;00m SparseDtype\n\u001b[32m    126\u001b[39m \u001b[38;5;28;01mfrom\u001b[39;00m\u001b[38;5;250m \u001b[39m\u001b[34;01mpandas\u001b[39;00m\u001b[34;01m.\u001b[39;00m\u001b[34;01mtseries\u001b[39;00m\u001b[34;01m.\u001b[39;00m\u001b[34;01mapi\u001b[39;00m\u001b[38;5;250m \u001b[39m\u001b[38;5;28;01mimport\u001b[39;00m infer_freq\n",
      "\u001b[36mFile \u001b[39m\u001b[32mc:\\Users\\prana\\AppData\\Local\\Programs\\Python\\Python311\\Lib\\site-packages\\pandas\\core\\api.py:1\u001b[39m\n\u001b[32m----> \u001b[39m\u001b[32m1\u001b[39m \u001b[38;5;28;01mfrom\u001b[39;00m\u001b[38;5;250m \u001b[39m\u001b[34;01mpandas\u001b[39;00m\u001b[34;01m.\u001b[39;00m\u001b[34;01m_libs\u001b[39;00m\u001b[38;5;250m \u001b[39m\u001b[38;5;28;01mimport\u001b[39;00m (\n\u001b[32m      2\u001b[39m     NaT,\n\u001b[32m      3\u001b[39m     Period,\n\u001b[32m      4\u001b[39m     Timedelta,\n\u001b[32m      5\u001b[39m     Timestamp,\n\u001b[32m      6\u001b[39m )\n\u001b[32m      7\u001b[39m \u001b[38;5;28;01mfrom\u001b[39;00m\u001b[38;5;250m \u001b[39m\u001b[34;01mpandas\u001b[39;00m\u001b[34;01m.\u001b[39;00m\u001b[34;01m_libs\u001b[39;00m\u001b[34;01m.\u001b[39;00m\u001b[34;01mmissing\u001b[39;00m\u001b[38;5;250m \u001b[39m\u001b[38;5;28;01mimport\u001b[39;00m NA\n\u001b[32m      9\u001b[39m \u001b[38;5;28;01mfrom\u001b[39;00m\u001b[38;5;250m \u001b[39m\u001b[34;01mpandas\u001b[39;00m\u001b[34;01m.\u001b[39;00m\u001b[34;01mcore\u001b[39;00m\u001b[34;01m.\u001b[39;00m\u001b[34;01mdtypes\u001b[39;00m\u001b[34;01m.\u001b[39;00m\u001b[34;01mdtypes\u001b[39;00m\u001b[38;5;250m \u001b[39m\u001b[38;5;28;01mimport\u001b[39;00m (\n\u001b[32m     10\u001b[39m     ArrowDtype,\n\u001b[32m     11\u001b[39m     CategoricalDtype,\n\u001b[32m   (...)\u001b[39m\u001b[32m     14\u001b[39m     PeriodDtype,\n\u001b[32m     15\u001b[39m )\n",
      "\u001b[36mFile \u001b[39m\u001b[32mc:\\Users\\prana\\AppData\\Local\\Programs\\Python\\Python311\\Lib\\site-packages\\pandas\\_libs\\__init__.py:18\u001b[39m\n\u001b[32m     16\u001b[39m \u001b[38;5;28;01mimport\u001b[39;00m\u001b[38;5;250m \u001b[39m\u001b[34;01mpandas\u001b[39;00m\u001b[34;01m.\u001b[39;00m\u001b[34;01m_libs\u001b[39;00m\u001b[34;01m.\u001b[39;00m\u001b[34;01mpandas_parser\u001b[39;00m  \u001b[38;5;66;03m# noqa: E501 # isort: skip # type: ignore[reportUnusedImport]\u001b[39;00m\n\u001b[32m     17\u001b[39m \u001b[38;5;28;01mimport\u001b[39;00m\u001b[38;5;250m \u001b[39m\u001b[34;01mpandas\u001b[39;00m\u001b[34;01m.\u001b[39;00m\u001b[34;01m_libs\u001b[39;00m\u001b[34;01m.\u001b[39;00m\u001b[34;01mpandas_datetime\u001b[39;00m  \u001b[38;5;66;03m# noqa: F401,E501 # isort: skip # type: ignore[reportUnusedImport]\u001b[39;00m\n\u001b[32m---> \u001b[39m\u001b[32m18\u001b[39m \u001b[38;5;28;01mfrom\u001b[39;00m\u001b[38;5;250m \u001b[39m\u001b[34;01mpandas\u001b[39;00m\u001b[34;01m.\u001b[39;00m\u001b[34;01m_libs\u001b[39;00m\u001b[34;01m.\u001b[39;00m\u001b[34;01minterval\u001b[39;00m\u001b[38;5;250m \u001b[39m\u001b[38;5;28;01mimport\u001b[39;00m Interval\n\u001b[32m     19\u001b[39m \u001b[38;5;28;01mfrom\u001b[39;00m\u001b[38;5;250m \u001b[39m\u001b[34;01mpandas\u001b[39;00m\u001b[34;01m.\u001b[39;00m\u001b[34;01m_libs\u001b[39;00m\u001b[34;01m.\u001b[39;00m\u001b[34;01mtslibs\u001b[39;00m\u001b[38;5;250m \u001b[39m\u001b[38;5;28;01mimport\u001b[39;00m (\n\u001b[32m     20\u001b[39m     NaT,\n\u001b[32m     21\u001b[39m     NaTType,\n\u001b[32m   (...)\u001b[39m\u001b[32m     26\u001b[39m     iNaT,\n\u001b[32m     27\u001b[39m )\n",
      "\u001b[36mFile \u001b[39m\u001b[32minterval.pyx:1\u001b[39m, in \u001b[36minit pandas._libs.interval\u001b[39m\u001b[34m()\u001b[39m\n",
      "\u001b[31mValueError\u001b[39m: numpy.dtype size changed, may indicate binary incompatibility. Expected 96 from C header, got 88 from PyObject"
     ]
    }
   ],
   "source": [
    "import numpy as np\n",
    "import pandas as pd\n",
    "import matplotlib.pyplot as plt\n",
    "import re\n",
    "import sklearn.utils\n",
    "\n"
   ]
  },
  {
   "cell_type": "code",
   "execution_count": 4,
   "id": "fd118f92",
   "metadata": {},
   "outputs": [],
   "source": [
    "df = pd.read_excel('data/recipes.xlsx')"
   ]
  },
  {
   "cell_type": "code",
   "execution_count": null,
   "id": "50ebe5db",
   "metadata": {},
   "outputs": [
    {
     "name": "stdout",
     "output_type": "stream",
     "text": [
      "                               recipe_name  \\\n",
      "0                          afghani chicken   \n",
      "1                               al yakhani   \n",
      "2          almond biscuit badam ke biscuit   \n",
      "3  almond cardamom cake badam elaichi cake   \n",
      "4                almond soup badam ka soup   \n",
      "\n",
      "                                       food_name_org  \n",
      "0  fenugreek leaves trigonella foenum graecum lem...  \n",
      "1  bottle gourd elongate pale green lagenaria vul...  \n",
      "2  almond essence wheat flour refined triticum ae...  \n",
      "3  wheat flour refined triticum aestivum cardamom...  \n",
      "4  wheat flour refined triticum aestivum parsley ...  \n"
     ]
    }
   ],
   "source": [
    "# Keep only the columns you need\n",
    "df = df[['recipe_name', 'food_name_org']].copy()  # 👈 use .copy() to avoid warnings\n",
    "\n",
    "# Clean text function\n",
    "def clean_text(text):\n",
    "    text = str(text).lower().strip()\n",
    "    text = re.sub(r'[^a-z\\s]', '', text)  # remove non-alphabetic chars\n",
    "    text = re.sub(r'\\s+', ' ', text)      # remove extra spaces\n",
    "    return text\n",
    "\n",
    "# Apply cleaning\n",
    "df['recipe_name'] = df['recipe_name'].apply(clean_text)\n",
    "df['food_name_org'] = df['food_name_org'].fillna('').apply(clean_text)\n",
    "\n",
    "# Group by recipe to combine ingredients\n",
    "recipes_grouped = (\n",
    "    df.groupby('recipe_name')['food_name_org']\n",
    "    .apply(lambda x: ' '.join(x))\n",
    "    .reset_index()\n",
    ")\n",
    "\n",
    "# Preview\n",
    "print(recipes_grouped.head())"
   ]
  },
  {
   "cell_type": "code",
   "execution_count": null,
   "id": "a0728d1b",
   "metadata": {},
   "outputs": [],
   "source": []
  },
  {
   "cell_type": "code",
   "execution_count": 13,
   "id": "dd9e50d5",
   "metadata": {},
   "outputs": [],
   "source": [
    "df = df.drop(columns=['aloo gobhi'])\n",
    "\n"
   ]
  },
  {
   "cell_type": "code",
   "execution_count": 14,
   "id": "c29783e0",
   "metadata": {},
   "outputs": [],
   "source": [
    "df = df.dropna(subset=['amount', 'unit'])\n"
   ]
  },
  {
   "cell_type": "code",
   "execution_count": 17,
   "id": "8863b78d",
   "metadata": {},
   "outputs": [],
   "source": [
    "df = df.drop(columns=[\n",
    "    'recipe_code_org',\n",
    "    'recipe_name_org',\n",
    "    'amount_org',\n",
    "    'unit_org',\n",
    "    'food_code_org',\n",
    "    'food_name'\n",
    "])\n"
   ]
  },
  {
   "cell_type": "code",
   "execution_count": 20,
   "id": "0f3be61b",
   "metadata": {},
   "outputs": [
    {
     "data": {
      "text/plain": [
       "recipe_code            0.000000\n",
       "recipe_name            0.000000\n",
       "ingredient_name_org    0.000000\n",
       "food_name_org          0.000000\n",
       "food_code              1.168679\n",
       "amount                 0.000000\n",
       "unit                   0.000000\n",
       "dtype: float64"
      ]
     },
     "execution_count": 20,
     "metadata": {},
     "output_type": "execute_result"
    }
   ],
   "source": [
    "(df.isnull().sum()/df.shape[0])*100"
   ]
  },
  {
   "cell_type": "code",
   "execution_count": 24,
   "id": "510a35d3",
   "metadata": {},
   "outputs": [
    {
     "data": {
      "text/plain": [
       "recipe_code            0.0\n",
       "recipe_name            0.0\n",
       "ingredient_name_org    0.0\n",
       "food_name_org          0.0\n",
       "food_code              0.0\n",
       "amount                 0.0\n",
       "unit                   0.0\n",
       "dtype: float64"
      ]
     },
     "execution_count": 24,
     "metadata": {},
     "output_type": "execute_result"
    }
   ],
   "source": [
    "(df.isnull().sum()/df.shape[0])*100"
   ]
  },
  {
   "cell_type": "code",
   "execution_count": 23,
   "id": "eadd7695",
   "metadata": {},
   "outputs": [],
   "source": [
    "df['food_code'] = df['food_code'].fillna('unknown')\n"
   ]
  },
  {
   "cell_type": "code",
   "execution_count": 27,
   "id": "0fb5c2af",
   "metadata": {},
   "outputs": [
    {
     "data": {
      "text/html": [
       "<div>\n",
       "<style scoped>\n",
       "    .dataframe tbody tr th:only-of-type {\n",
       "        vertical-align: middle;\n",
       "    }\n",
       "\n",
       "    .dataframe tbody tr th {\n",
       "        vertical-align: top;\n",
       "    }\n",
       "\n",
       "    .dataframe thead th {\n",
       "        text-align: right;\n",
       "    }\n",
       "</style>\n",
       "<table border=\"1\" class=\"dataframe\">\n",
       "  <thead>\n",
       "    <tr style=\"text-align: right;\">\n",
       "      <th></th>\n",
       "      <th>recipe_code</th>\n",
       "      <th>recipe_name</th>\n",
       "      <th>ingredient_name_org</th>\n",
       "      <th>food_name_org</th>\n",
       "      <th>food_code</th>\n",
       "      <th>amount</th>\n",
       "      <th>unit</th>\n",
       "    </tr>\n",
       "  </thead>\n",
       "  <tbody>\n",
       "    <tr>\n",
       "      <th>0</th>\n",
       "      <td>ASC001</td>\n",
       "      <td>Hot tea (Garam Chai)</td>\n",
       "      <td>Milk</td>\n",
       "      <td>Milk, whole, Cow</td>\n",
       "      <td>L002</td>\n",
       "      <td>50.0</td>\n",
       "      <td>ml</td>\n",
       "    </tr>\n",
       "    <tr>\n",
       "      <th>1</th>\n",
       "      <td>ASC001</td>\n",
       "      <td>Hot tea (Garam Chai)</td>\n",
       "      <td>Sugar</td>\n",
       "      <td>Sugar, white</td>\n",
       "      <td>I502</td>\n",
       "      <td>2.0</td>\n",
       "      <td>tsp</td>\n",
       "    </tr>\n",
       "    <tr>\n",
       "      <th>2</th>\n",
       "      <td>ASC001</td>\n",
       "      <td>Hot tea (Garam Chai)</td>\n",
       "      <td>Tea leaves</td>\n",
       "      <td>Tea, black, infusion, average</td>\n",
       "      <td>V510</td>\n",
       "      <td>1.5</td>\n",
       "      <td>tsp</td>\n",
       "    </tr>\n",
       "    <tr>\n",
       "      <th>3</th>\n",
       "      <td>ASC001</td>\n",
       "      <td>Hot tea (Garam Chai)</td>\n",
       "      <td>Water</td>\n",
       "      <td>Water, distilled</td>\n",
       "      <td>K505</td>\n",
       "      <td>1.5</td>\n",
       "      <td>C</td>\n",
       "    </tr>\n",
       "    <tr>\n",
       "      <th>4</th>\n",
       "      <td>ASC002</td>\n",
       "      <td>Instant coffee</td>\n",
       "      <td>Hot milk</td>\n",
       "      <td>Milk, whole, Cow</td>\n",
       "      <td>L002</td>\n",
       "      <td>75.0</td>\n",
       "      <td>ml</td>\n",
       "    </tr>\n",
       "  </tbody>\n",
       "</table>\n",
       "</div>"
      ],
      "text/plain": [
       "  recipe_code           recipe_name ingredient_name_org  \\\n",
       "0      ASC001  Hot tea (Garam Chai)                Milk   \n",
       "1      ASC001  Hot tea (Garam Chai)               Sugar   \n",
       "2      ASC001  Hot tea (Garam Chai)          Tea leaves   \n",
       "3      ASC001  Hot tea (Garam Chai)               Water   \n",
       "4      ASC002        Instant coffee            Hot milk   \n",
       "\n",
       "                   food_name_org food_code  amount unit  \n",
       "0               Milk, whole, Cow      L002    50.0   ml  \n",
       "1                   Sugar, white      I502     2.0  tsp  \n",
       "2  Tea, black, infusion, average      V510     1.5  tsp  \n",
       "3               Water, distilled      K505     1.5    C  \n",
       "4               Milk, whole, Cow      L002    75.0   ml  "
      ]
     },
     "execution_count": 27,
     "metadata": {},
     "output_type": "execute_result"
    }
   ],
   "source": [
    "df.head()"
   ]
  },
  {
   "cell_type": "code",
   "execution_count": 28,
   "id": "63f840ae",
   "metadata": {},
   "outputs": [
    {
     "data": {
      "text/plain": [
       "0                                     Hot tea (Garam Chai)\n",
       "1                                     Hot tea (Garam Chai)\n",
       "2                                     Hot tea (Garam Chai)\n",
       "3                                     Hot tea (Garam Chai)\n",
       "4                                           Instant coffee\n",
       "                               ...                        \n",
       "10266    Garlic chickpea soup (Lahasun aur chane ka sho...\n",
       "10267    Garlic chickpea soup (Lahasun aur chane ka sho...\n",
       "10268    Garlic chickpea soup (Lahasun aur chane ka sho...\n",
       "10269    Garlic chickpea soup (Lahasun aur chane ka sho...\n",
       "10270    Garlic chickpea soup (Lahasun aur chane ka sho...\n",
       "Name: recipe_name, Length: 10268, dtype: object"
      ]
     },
     "execution_count": 28,
     "metadata": {},
     "output_type": "execute_result"
    }
   ],
   "source": [
    "df['recipe_name']"
   ]
  },
  {
   "cell_type": "code",
   "execution_count": null,
   "id": "3fb750dc",
   "metadata": {},
   "outputs": [],
   "source": []
  },
  {
   "cell_type": "code",
   "execution_count": null,
   "id": "42bbd6af",
   "metadata": {},
   "outputs": [],
   "source": []
  }
 ],
 "metadata": {
  "kernelspec": {
   "display_name": "Python 3",
   "language": "python",
   "name": "python3"
  },
  "language_info": {
   "codemirror_mode": {
    "name": "ipython",
    "version": 3
   },
   "file_extension": ".py",
   "mimetype": "text/x-python",
   "name": "python",
   "nbconvert_exporter": "python",
   "pygments_lexer": "ipython3",
   "version": "3.11.1"
  }
 },
 "nbformat": 4,
 "nbformat_minor": 5
}

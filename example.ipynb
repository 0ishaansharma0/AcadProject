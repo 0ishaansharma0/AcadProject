{
 "cells": [
  {
   "cell_type": "code",
   "execution_count": 1,
   "id": "8d677943",
   "metadata": {},
   "outputs": [],
   "source": [
    "\n",
    "import numpy as np\n",
    "import pandas as pd\n",
    "import sklearn \n",
    "import re\n",
    "from sklearn.feature_extraction.text import TfidfVectorizer\n",
    "from sklearn.metrics.pairwise import cosine_similarity\n"
   ]
  },
  {
   "cell_type": "code",
   "execution_count": 2,
   "id": "fd118f92",
   "metadata": {},
   "outputs": [],
   "source": [
    "\n",
    "df = pd.read_excel('data/recipes.xlsx')"
   ]
  },
  {
   "cell_type": "code",
   "execution_count": 3,
   "id": "dd9e50d5",
   "metadata": {},
   "outputs": [],
   "source": [
    "\n",
    "df = df.drop(columns=['aloo gobhi'])\n"
   ]
  },
  {
   "cell_type": "code",
   "execution_count": 4,
   "id": "c29783e0",
   "metadata": {},
   "outputs": [],
   "source": [
    "\n",
    "df = df.dropna(subset=['amount', 'unit'])\n"
   ]
  },
  {
   "cell_type": "code",
   "execution_count": 5,
   "id": "8863b78d",
   "metadata": {},
   "outputs": [],
   "source": [
    "\n",
    "df = df.drop(columns=[\n",
    "    'recipe_code_org',\n",
    "    'recipe_name_org',\n",
    "    'amount_org',\n",
    "    'unit_org',\n",
    "    'food_code_org',\n",
    "    'food_name'\n",
    "])\n"
   ]
  },
  {
   "cell_type": "code",
   "execution_count": 6,
   "id": "0f3be61b",
   "metadata": {},
   "outputs": [
    {
     "data": {
      "text/plain": [
       "recipe_code            0.000000\n",
       "recipe_name            0.000000\n",
       "ingredient_name_org    0.000000\n",
       "food_name_org          0.000000\n",
       "food_code              1.168679\n",
       "amount                 0.000000\n",
       "unit                   0.000000\n",
       "dtype: float64"
      ]
     },
     "execution_count": 6,
     "metadata": {},
     "output_type": "execute_result"
    }
   ],
   "source": [
    "\n",
    "(df.isnull().sum()/df.shape[0])*100\n"
   ]
  },
  {
   "cell_type": "code",
   "execution_count": 7,
   "id": "510a35d3",
   "metadata": {},
   "outputs": [
    {
     "data": {
      "text/plain": [
       "recipe_code            0.000000\n",
       "recipe_name            0.000000\n",
       "ingredient_name_org    0.000000\n",
       "food_name_org          0.000000\n",
       "food_code              1.168679\n",
       "amount                 0.000000\n",
       "unit                   0.000000\n",
       "dtype: float64"
      ]
     },
     "execution_count": 7,
     "metadata": {},
     "output_type": "execute_result"
    }
   ],
   "source": [
    "\n",
    "(df.isnull().sum()/df.shape[0])*100\n"
   ]
  },
  {
   "cell_type": "code",
   "execution_count": 8,
   "id": "eadd7695",
   "metadata": {},
   "outputs": [],
   "source": [
    "\n",
    "df['food_code'] = df['food_code'].fillna('unknown')\n",
    "\n"
   ]
  },
  {
   "cell_type": "code",
   "execution_count": 9,
   "id": "0fb5c2af",
   "metadata": {},
   "outputs": [
    {
     "data": {
      "text/html": [
       "<div>\n",
       "<style scoped>\n",
       "    .dataframe tbody tr th:only-of-type {\n",
       "        vertical-align: middle;\n",
       "    }\n",
       "\n",
       "    .dataframe tbody tr th {\n",
       "        vertical-align: top;\n",
       "    }\n",
       "\n",
       "    .dataframe thead th {\n",
       "        text-align: right;\n",
       "    }\n",
       "</style>\n",
       "<table border=\"1\" class=\"dataframe\">\n",
       "  <thead>\n",
       "    <tr style=\"text-align: right;\">\n",
       "      <th></th>\n",
       "      <th>recipe_code</th>\n",
       "      <th>recipe_name</th>\n",
       "      <th>ingredient_name_org</th>\n",
       "      <th>food_name_org</th>\n",
       "      <th>food_code</th>\n",
       "      <th>amount</th>\n",
       "      <th>unit</th>\n",
       "    </tr>\n",
       "  </thead>\n",
       "  <tbody>\n",
       "    <tr>\n",
       "      <th>0</th>\n",
       "      <td>ASC001</td>\n",
       "      <td>Hot tea (Garam Chai)</td>\n",
       "      <td>Milk</td>\n",
       "      <td>Milk, whole, Cow</td>\n",
       "      <td>L002</td>\n",
       "      <td>50.0</td>\n",
       "      <td>ml</td>\n",
       "    </tr>\n",
       "    <tr>\n",
       "      <th>1</th>\n",
       "      <td>ASC001</td>\n",
       "      <td>Hot tea (Garam Chai)</td>\n",
       "      <td>Sugar</td>\n",
       "      <td>Sugar, white</td>\n",
       "      <td>I502</td>\n",
       "      <td>2.0</td>\n",
       "      <td>tsp</td>\n",
       "    </tr>\n",
       "    <tr>\n",
       "      <th>2</th>\n",
       "      <td>ASC001</td>\n",
       "      <td>Hot tea (Garam Chai)</td>\n",
       "      <td>Tea leaves</td>\n",
       "      <td>Tea, black, infusion, average</td>\n",
       "      <td>V510</td>\n",
       "      <td>1.5</td>\n",
       "      <td>tsp</td>\n",
       "    </tr>\n",
       "    <tr>\n",
       "      <th>3</th>\n",
       "      <td>ASC001</td>\n",
       "      <td>Hot tea (Garam Chai)</td>\n",
       "      <td>Water</td>\n",
       "      <td>Water, distilled</td>\n",
       "      <td>K505</td>\n",
       "      <td>1.5</td>\n",
       "      <td>C</td>\n",
       "    </tr>\n",
       "    <tr>\n",
       "      <th>4</th>\n",
       "      <td>ASC002</td>\n",
       "      <td>Instant coffee</td>\n",
       "      <td>Hot milk</td>\n",
       "      <td>Milk, whole, Cow</td>\n",
       "      <td>L002</td>\n",
       "      <td>75.0</td>\n",
       "      <td>ml</td>\n",
       "    </tr>\n",
       "  </tbody>\n",
       "</table>\n",
       "</div>"
      ],
      "text/plain": [
       "  recipe_code           recipe_name ingredient_name_org  \\\n",
       "0      ASC001  Hot tea (Garam Chai)                Milk   \n",
       "1      ASC001  Hot tea (Garam Chai)               Sugar   \n",
       "2      ASC001  Hot tea (Garam Chai)          Tea leaves   \n",
       "3      ASC001  Hot tea (Garam Chai)               Water   \n",
       "4      ASC002        Instant coffee            Hot milk   \n",
       "\n",
       "                   food_name_org food_code  amount unit  \n",
       "0               Milk, whole, Cow      L002    50.0   ml  \n",
       "1                   Sugar, white      I502     2.0  tsp  \n",
       "2  Tea, black, infusion, average      V510     1.5  tsp  \n",
       "3               Water, distilled      K505     1.5    C  \n",
       "4               Milk, whole, Cow      L002    75.0   ml  "
      ]
     },
     "execution_count": 9,
     "metadata": {},
     "output_type": "execute_result"
    }
   ],
   "source": [
    "\n",
    "df.head()\n"
   ]
  },
  {
   "cell_type": "code",
   "execution_count": 10,
   "id": "63f840ae",
   "metadata": {},
   "outputs": [
    {
     "data": {
      "text/plain": [
       "0                                     Hot tea (Garam Chai)\n",
       "1                                     Hot tea (Garam Chai)\n",
       "2                                     Hot tea (Garam Chai)\n",
       "3                                     Hot tea (Garam Chai)\n",
       "4                                           Instant coffee\n",
       "                               ...                        \n",
       "10266    Garlic chickpea soup (Lahasun aur chane ka sho...\n",
       "10267    Garlic chickpea soup (Lahasun aur chane ka sho...\n",
       "10268    Garlic chickpea soup (Lahasun aur chane ka sho...\n",
       "10269    Garlic chickpea soup (Lahasun aur chane ka sho...\n",
       "10270    Garlic chickpea soup (Lahasun aur chane ka sho...\n",
       "Name: recipe_name, Length: 10268, dtype: object"
      ]
     },
     "execution_count": 10,
     "metadata": {},
     "output_type": "execute_result"
    }
   ],
   "source": [
    "\n",
    "df['recipe_name']\n"
   ]
  },
  {
   "cell_type": "code",
   "execution_count": 11,
   "id": "3fb750dc",
   "metadata": {},
   "outputs": [
    {
     "name": "stdout",
     "output_type": "stream",
     "text": [
      "2.3.3\n",
      "2.3.3\n"
     ]
    }
   ],
   "source": [
    "\n",
    "print(np.__version__)\n",
    "print(pd.__version__)\n"
   ]
  },
  {
   "cell_type": "code",
   "execution_count": 12,
   "id": "42bbd6af",
   "metadata": {},
   "outputs": [
    {
     "name": "stdout",
     "output_type": "stream",
     "text": [
      "                               recipe_name  \\\n",
      "0                          afghani chicken   \n",
      "1                               al yakhani   \n",
      "2          almond biscuit badam ke biscuit   \n",
      "3  almond cardamom cake badam elaichi cake   \n",
      "4                almond soup badam ka soup   \n",
      "\n",
      "                                       food_name_org  \n",
      "0  fenugreek leaves trigonella foenum graecum lem...  \n",
      "1  bottle gourd elongate pale green lagenaria vul...  \n",
      "2  almond essence wheat flour refined triticum ae...  \n",
      "3  wheat flour refined triticum aestivum cardamom...  \n",
      "4  wheat flour refined triticum aestivum parsley ...  \n"
     ]
    }
   ],
   "source": [
    "\n",
    "df = pd.read_excel('data/recipes.xlsx')\n",
    "# Keep only the columns you need\n",
    "df = df[['recipe_name', 'food_name_org']].copy()  # 👈 use .copy() to avoid warnings\n",
    "\n",
    "# Clean text function\n",
    "def clean_text(text):\n",
    "    text = str(text).lower().strip()\n",
    "    text = re.sub(r'[^a-z\\s]', '', text)  # remove non-alphabetic chars\n",
    "    text = re.sub(r'\\s+', ' ', text)      # remove extra spaces\n",
    "    return text\n",
    "\n",
    "# Apply cleaning\n",
    "df['recipe_name'] = df['recipe_name'].apply(clean_text)\n",
    "df['food_name_org'] = df['food_name_org'].fillna('').apply(clean_text)\n",
    "\n",
    "# Group by recipe to combine ingredients\n",
    "recipes_grouped = (\n",
    "    df.groupby('recipe_name')['food_name_org']\n",
    "    .apply(lambda x: ' '.join(x))\n",
    "    .reset_index()\n",
    ")\n",
    "\n",
    "# Preview\n",
    "print(recipes_grouped.head())\n"
   ]
  },
  {
   "cell_type": "code",
   "execution_count": 13,
   "id": "3f0a6f57",
   "metadata": {},
   "outputs": [
    {
     "data": {
      "text/plain": [
       "\"\\nrecipes_grouped = recipes_grouped.drop_duplicates(subset=['recipe_name']).reset_index(drop=True)\\n\""
      ]
     },
     "execution_count": 13,
     "metadata": {},
     "output_type": "execute_result"
    }
   ],
   "source": [
    "'''\n",
    "recipes_grouped = recipes_grouped.drop_duplicates(subset=['recipe_name']).reset_index(drop=True)\n",
    "'''\n"
   ]
  },
  {
   "cell_type": "code",
   "execution_count": 14,
   "id": "eac89411",
   "metadata": {},
   "outputs": [],
   "source": [
    "\n",
    "# Step 4: TF-IDF + cosine similarity\n",
    "tfidf = TfidfVectorizer()\n",
    "tfidf_matrix = tfidf.fit_transform(recipes_grouped['food_name_org'])\n",
    "cosine_sim = cosine_similarity(tfidf_matrix, tfidf_matrix)\n"
   ]
  },
  {
   "cell_type": "code",
   "execution_count": 15,
   "id": "ce02e91f",
   "metadata": {},
   "outputs": [
    {
     "data": {
      "text/plain": [
       "['khakhra chaat',\n",
       " 'split bengal gram dal channa dal',\n",
       " 'oniongreen chilli paranthaparatha pyaaz aur hari mirch ka paranthaparatha',\n",
       " 'vegetarian nargisi kofta curry',\n",
       " 'potato samosa aloo ka samosa']"
      ]
     },
     "execution_count": 15,
     "metadata": {},
     "output_type": "execute_result"
    }
   ],
   "source": [
    "\n",
    "def get_similar_recipes(recipe_name, cosine_sim=cosine_sim, recipes=recipes_grouped): \n",
    "    recipe_name = clean_text(recipe_name)\n",
    "    if recipe_name not in recipes['recipe_name'].values:\n",
    "        return []\n",
    "\n",
    "    idx = recipes[recipes['recipe_name'] == recipe_name].index[0]\n",
    "    sim_scores = list(enumerate(cosine_sim[idx]))\n",
    "    sim_scores = sorted(sim_scores, key=lambda x: x[1], reverse=True)[1:6]\n",
    "    return [recipes.iloc[i[0]]['recipe_name'] for i in sim_scores]\n",
    "\n",
    "    \n",
    "\n",
    "# Example\n",
    "get_similar_recipes('bhel puri')\n"
   ]
  },
  {
   "cell_type": "code",
   "execution_count": null,
   "id": "29f71d78",
   "metadata": {},
   "outputs": [],
   "source": []
  },
  {
   "cell_type": "code",
   "execution_count": null,
   "id": "5bc690b3",
   "metadata": {},
   "outputs": [],
   "source": []
  },
  {
   "cell_type": "code",
   "execution_count": null,
   "id": "46b2e00f",
   "metadata": {},
   "outputs": [],
   "source": []
  }
 ],
 "metadata": {
  "kernelspec": {
   "display_name": "Python 3",
   "language": "python",
   "name": "python3"
  },
  "language_info": {
   "codemirror_mode": {
    "name": "ipython",
    "version": 3
   },
   "file_extension": ".py",
   "mimetype": "text/x-python",
   "name": "python",
   "nbconvert_exporter": "python",
   "pygments_lexer": "ipython3",
   "version": "3.13.7"
  }
 },
 "nbformat": 4,
 "nbformat_minor": 5
}

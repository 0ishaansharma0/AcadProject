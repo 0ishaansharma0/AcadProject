{
 "cells": [
  {
   "cell_type": "code",
   "execution_count": null,
   "id": "b448d7ab",
   "metadata": {
    "vscode": {
     "languageId": "plaintext"
    }
   },
   "outputs": [],
   "source": [
    "efvv"
   ]
  }
 ],
 "metadata": {
  "language_info": {
   "name": "python"
  }
 },
 "nbformat": 4,
 "nbformat_minor": 5
}
